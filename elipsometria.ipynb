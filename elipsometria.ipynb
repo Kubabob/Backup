{
 "cells": [
  {
   "cell_type": "code",
   "execution_count": 1,
   "metadata": {},
   "outputs": [],
   "source": [
    "from numpy import *\n",
    "import math\n",
    "import matplotlib.pyplot as plt"
   ]
  },
  {
   "cell_type": "code",
   "execution_count": 2,
   "metadata": {},
   "outputs": [],
   "source": [
    "def beta(thickness, wave_length, N0, N1, theta0):\n",
    "    return ((2*pi*thickness)/wave_length)*((N1**2) - (N0**2)*sin(theta0)**2)*(1/2)"
   ]
  },
  {
   "cell_type": "code",
   "execution_count": 3,
   "metadata": {},
   "outputs": [],
   "source": [
    "def N(n,k):\n",
    "    return n - 1j*k\n",
    "\n",
    "def costhetat(Ni, Nt, thetai):\n",
    "    #return math.asin((real(Ni)*sin(thetai)/real(Nt))) \n",
    "    sinthetat = Ni*sin(thetai)/Nt\n",
    "    return (1 - sinthetat**2)**(1/2)\n",
    "    #return arcsin((Ni*sin(thetai))/Nt)\n",
    "    #return arctan(Nt/Ni)"
   ]
  },
  {
   "cell_type": "code",
   "execution_count": 4,
   "metadata": {},
   "outputs": [],
   "source": [
    "def rp(Ni, Nt, thetai):\n",
    "    Nti = Nt/Ni\n",
    "    nominator = ((Nti**2)*cos(thetai)-((Nti**2)-sin(thetai)**2)**(1/2))\n",
    "    denominator = ((Nti**2)*cos(thetai)+((Nti**2)-sin(thetai)**2)**(1/2))\n",
    "\n",
    "    return nominator/denominator\n",
    "\n",
    "def rs(Ni, Nt, thetai):\n",
    "    Nti = Nt/Ni\n",
    "    nominator = (cos(thetai)-((Nti**2)-sin(thetai)**2))**(1/2)\n",
    "    denominator = (cos(thetai)+((Nti**2)-sin(thetai)**2))**(1/2)\n",
    "    \n",
    "    return nominator/denominator\n",
    "\n",
    "def rjkp(Ni, Nt, thetai):\n",
    "    thetai = thetai*pi/180\n",
    "    nominatior = (Nt*cos(thetai) - Ni*costhetat(Ni, Nt, thetai))\n",
    "    denominator = (Nt*cos(thetai) + Ni*costhetat(Ni, Nt, thetai))\n",
    "\n",
    "    return nominatior/denominator\n",
    "\n",
    "def rjks(Ni, Nt, thetai):\n",
    "    thetai = thetai*pi/180\n",
    "    nominatior = (Ni*cos(thetai) - Nt*costhetat(Ni, Nt, thetai))\n",
    "    denominator = (Ni*cos(thetai) + Nt*costhetat(Ni, Nt, thetai))\n",
    "\n",
    "    return nominatior/denominator\n",
    "\n",
    "def rjklp(rjkp, rklp, beta):\n",
    "    nominator = (rjkp + rklp*exp(-2j*beta))\n",
    "    denominator = (1 + rjkp*rklp*exp(-2j*beta))\n",
    "\n",
    "    return nominator/denominator\n",
    "\n",
    "def rjkls(rjks, rkls, beta):\n",
    "    nominator = (rjks + rkls*exp(-2j*beta))\n",
    "    denominator = (1 + rjks*rkls*exp(-2j*beta))\n",
    "\n",
    "    return nominator/denominator"
   ]
  },
  {
   "cell_type": "code",
   "execution_count": 5,
   "metadata": {},
   "outputs": [],
   "source": [
    "def Rp(rp):\n",
    "    return abs(rp)**2\n",
    "\n",
    "def Rs(rs):\n",
    "    return abs(rs)**2\n",
    "\n",
    "def Rn(Rp, Rs):\n",
    "    return (Rp + Rs)/2"
   ]
  },
  {
   "cell_type": "code",
   "execution_count": 6,
   "metadata": {},
   "outputs": [],
   "source": [
    "def psi(rp, rs):\n",
    "    return math.atan(abs(rp)/abs(rs))\n",
    "\n",
    "def delta(rp, rs, psi):\n",
    "    return (log(rp/(rs*tan(psi))))/1j"
   ]
  },
  {
   "cell_type": "code",
   "execution_count": 7,
   "metadata": {},
   "outputs": [],
   "source": [
    "#Si = (3.9720, 0.030082)\n",
    "Si = (3.8827, 0.019626)\n",
    "Ti = (2.7039, 3.7651)\n",
    "Air = (1.00027715, 0)\n",
    "SiO2 = (1.4585, 0)\n",
    "\n",
    "NSi = N(Si[0], Si[1])\n",
    "NAir = N(Air[0], Air[1])\n",
    "NSiO2 = N(SiO2[0], SiO2[1])\n",
    "\n",
    "wave_length = 0.6328\n",
    "thetai = 70\n",
    "#thetatSiO2 = thetat(NAir, NSiO2, thetai)\n",
    "#thetat = \n",
    "thickness = 1"
   ]
  },
  {
   "cell_type": "code",
   "execution_count": 8,
   "metadata": {},
   "outputs": [],
   "source": [
    "#p = rp/rs = tan(psi)exp(idelta)"
   ]
  },
  {
   "cell_type": "code",
   "execution_count": 9,
   "metadata": {},
   "outputs": [
    {
     "name": "stdout",
     "output_type": "stream",
     "text": [
      "Rp: 0.02419065501086962\n",
      "Rs: 0.694718588822945\n",
      "Rn: 0.3594546219169073\n"
     ]
    },
    {
     "data": {
      "image/png": "[encoded data removed]",
      "text/plain": [
       "<Figure size 640x480 with 1 Axes>"
      ]
     },
     "metadata": {},
     "output_type": "display_data"
    }
   ],
   "source": [
    "NSi = N(Si[0], Si[1])\n",
    "theta0 = thetai\n",
    "#costhetaTi = costhetat(NAir, NTi, theta0)\n",
    "#thetaTiAngle = arctan(imag(thetaTi)/real(thetaTi))\n",
    "#thetaTiAngle = \n",
    "\n",
    "rTip = rjkp(NAir, NSi, theta0)\n",
    "rTis = rjks(NAir, NSi, theta0)\n",
    "\n",
    "RTip = Rp(rTip)\n",
    "RTis = Rs(rTis)\n",
    "\n",
    "RTin = Rn(RTip, RTis)\n",
    "\n",
    "print(f'Rp: {RTip}')\n",
    "print(f'Rs: {RTis}')\n",
    "print(f'Rn: {RTin}')\n",
    "\n",
    "x = linspace(0, 90, num=900)\n",
    "yp = [Rp(rjkp(NAir, NSi, angle0)) for angle0 in x]\n",
    "ys = [Rs(rjks(NAir, NSi, angle0)) for angle0 in x]\n",
    "yn = [Rn(Rp(rjkp(NAir, NSi, angle0)), Rs(rjks(NAir, NSi, angle0))) for angle0 in x]\n",
    "\n",
    "#print(costhetaTi)\n",
    "\n",
    "#print(thetaTiAngle)\n",
    "\n",
    "plt.plot(x, yp)\n",
    "plt.plot(x, ys)\n",
    "#plt.plot(x, yn)\n",
    "plt.show()"
   ]
  }
 ],
 "metadata": {
  "kernelspec": {
   "display_name": "Python 3",
   "language": "python",
   "name": "python3"
  },
  "language_info": {
   "codemirror_mode": {
    "name": "ipython",
    "version": 3
   },
   "file_extension": ".py",
   "mimetype": "text/x-python",
   "name": "python",
   "nbconvert_exporter": "python",
   "pygments_lexer": "ipython3",
   "version": "3.11.3"
  },
  "orig_nbformat": 4
 },
 "nbformat": 4,
 "nbformat_minor": 2
}
