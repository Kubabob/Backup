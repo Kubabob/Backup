{
 "cells": [
  {
   "cell_type": "code",
   "execution_count": 7,
   "metadata": {},
   "outputs": [],
   "source": [
    "import numpy as np\n",
    "import pygad as pg\n",
    "import random, time"
   ]
  },
  {
   "cell_type": "code",
   "execution_count": 8,
   "metadata": {},
   "outputs": [],
   "source": [
    "labirynth = np.array([\n",
    "    ['#','#','#','#','#','#','#','#','#','#','#','#'],\n",
    "    ['#','S','O','O','#','O','O','O','#','O','O','#'],\n",
    "    ['#','#','#','O','O','O','#','O','#','#','0','#'],\n",
    "    ['#','O','O','O','#','O','#','O','O','O','O','#'],\n",
    "    ['#','O','#','O','#','#','O','O','#','#','O','#'],\n",
    "    ['#','O','O','#','#','O','O','O','#','O','O','#'],\n",
    "    ['#','O','O','O','O','O','#','O','O','O','#','#'],\n",
    "    ['#','O','#','O','O','#','#','O','#','O','O','#'],\n",
    "    ['#','O','#','#','#','O','O','O','#','#','O','#'],\n",
    "    ['#','O','#','O','#','#','O','#','O','#','O','#'],\n",
    "    ['#','O','#','O','O','O','O','O','O','O','E','#'],\n",
    "    ['#','#','#','#','#','#','#','#','#','#','#','#']])"
   ]
  },
  {
   "cell_type": "code",
   "execution_count": 9,
   "metadata": {},
   "outputs": [],
   "source": [
    "path_history = [[1,1]]"
   ]
  },
  {
   "cell_type": "code",
   "execution_count": 10,
   "metadata": {},
   "outputs": [],
   "source": [
    "def fitness(ga_instance, solution, solution_index):\n",
    "    position = [1,1]\n",
    "    fitness_sum = 0\n",
    "    for move in solution:\n",
    "        if move == 1 and position[0] > 0:# and path_history[-1][0] != position[0]-1:# and labirynth[position[0]-1, position[1]] != '#':#\n",
    "            position[0] -= 1\n",
    "            path_history.append(position)\n",
    "        elif move == 2 and position[1] < 11:# and path_history[-1][1] != position[1]+1:# and labirynth[position[0], position[1]+1] != '#':#\n",
    "            position[1] += 1\n",
    "            path_history.append(position)\n",
    "        elif move == 3 and position[0] < 11:# and path_history[-1][0] != position[0]+1:# and labirynth[position[0]+1, position[1]] != '#':#\n",
    "            position[0] += 1\n",
    "            path_history.append(position)\n",
    "        elif move == 4 and position[1] > 0:# and path_history[-1][1] != position[1]-1:# and labirynth[position[0], position[1]-1] != '#':#\n",
    "            position[1] -= 1\n",
    "            path_history.append(position)\n",
    "\n",
    "        if labirynth[position[0], position[1]] == 'O':\n",
    "            fitness_sum += 5\n",
    "        elif labirynth[position[0], position[1]] == 'O' and position in path_history:\n",
    "            fitness_sum -= 15\n",
    "        elif labirynth[position[0], position[1]] == '#':\n",
    "            fitness_sum -= 105\n",
    "        elif labirynth[position[0], position[1]] == 'E':\n",
    "            fitness_sum += 500\n",
    "            fitness_return = 1-abs(600-fitness_sum)/600\n",
    "            return fitness_return\n",
    "            \n",
    "    else:\n",
    "        fitness_return = 1-abs(600-fitness_sum)/600\n",
    "        return fitness_return"
   ]
  },
  {
   "cell_type": "code",
   "execution_count": 11,
   "metadata": {},
   "outputs": [
    {
     "name": "stdout",
     "output_type": "stream",
     "text": [
      "Parameters of the best solution: [2. 2. 3. 2. 2. 1. 2. 2. 3. 3. 3. 3. 3. 2. 2. 3. 2. 3. 1. 3. 3. 3. 1. 1.\n",
      " 4. 3. 3. 4. 4. 3.]\n",
      "Fitness value of the best solution = 0.9916666666666667\n",
      "\n",
      "Parameters of the best solution: [2. 2. 3. 1. 3. 3. 1. 1. 4. 2. 3. 2. 2. 4. 4. 3. 4. 4. 3. 1. 3. 1. 3. 3.\n",
      " 2. 4. 2. 4. 1. 3.]\n",
      "Fitness value of the best solution = 0.25\n",
      "\n",
      "Parameters of the best solution: [2. 2. 3. 1. 3. 3. 1. 2. 4. 1. 3. 2. 4. 2. 4. 3. 4. 4. 3. 3. 1. 3. 2. 3.\n",
      " 4. 3. 1. 3. 3. 1.]\n",
      "Fitness value of the best solution = 0.25\n",
      "\n",
      "Parameters of the best solution: [2. 2. 3. 2. 2. 3. 2. 3. 2. 3. 3. 2. 4. 2. 2. 3. 2. 3. 3. 1. 1. 3. 3. 1.\n",
      " 1. 3. 1. 3. 3. 3.]\n",
      "Fitness value of the best solution = 0.8916666666666666\n",
      "\n",
      "Parameters of the best solution: [2. 2. 3. 1. 3. 2. 2. 3. 3. 2. 2. 3. 3. 2. 2. 3. 1. 3. 1. 3. 1. 4. 2. 3.\n",
      " 1. 3. 2. 3. 3. 3.]\n",
      "Fitness value of the best solution = 0.8916666666666666\n",
      "\n",
      "Parameters of the best solution: [2. 2. 3. 2. 2. 1. 2. 2. 3. 3. 3. 3. 3. 2. 2. 3. 2. 3. 3. 3. 4. 4. 1. 4.\n",
      " 3. 3. 4. 4. 3. 2.]\n",
      "Fitness value of the best solution = 0.9916666666666667\n",
      "\n",
      "Parameters of the best solution: [2. 2. 3. 2. 2. 3. 3. 2. 2. 3. 3. 2. 2. 3. 2. 3. 3. 1. 3. 1. 1. 3. 3. 1.\n",
      " 1. 3. 1. 3. 3. 3.]\n",
      "Fitness value of the best solution = 0.8916666666666666\n",
      "\n",
      "Parameters of the best solution: [2. 2. 3. 2. 2. 3. 2. 3. 3. 2. 3. 2. 2. 3. 1. 3. 2. 3. 3. 1. 3. 1. 1. 3.\n",
      " 1. 3. 1. 3. 3. 3.]\n",
      "Fitness value of the best solution = 0.8916666666666666\n",
      "\n",
      "Parameters of the best solution: [2. 2. 3. 2. 2. 1. 2. 2. 3. 3. 3. 3. 3. 2. 2. 3. 2. 3. 3. 1. 3. 3. 1. 3.\n",
      " 1. 3. 3. 1. 2. 1.]\n",
      "Fitness value of the best solution = 0.9916666666666667\n",
      "\n",
      "Parameters of the best solution: [2. 2. 4. 2. 2. 2. 2. 2. 3. 3. 3. 4. 3. 2. 3. 2. 2. 4. 2. 3. 2. 3. 3. 1.\n",
      " 1. 3. 3. 1. 3. 3.]\n",
      "Fitness value of the best solution = 0.8916666666666666\n",
      "\n",
      "It took mean: 34.3 seconds\n",
      "At all: 333\n"
     ]
    }
   ],
   "source": [
    "whole_time = 0\n",
    "solution_fitness = 0\n",
    "i = 0\n",
    "\n",
    "for _ in range(10):\n",
    "    start_time = time.time()\n",
    "    ga_instance = pg.GA(\n",
    "        num_generations=500,\n",
    "        num_parents_mating=50,\n",
    "        fitness_func=fitness,\n",
    "        sol_per_pop=500,\n",
    "        num_genes=30,\n",
    "        gene_space=[1,2,3,4],\n",
    "        crossover_type='two_points',\n",
    "        mutation_probability=0.1,\n",
    "        #mutation_type='adaptive',\n",
    "        #mutation_num_genes=(3, 1),\n",
    "        #mutation_percent_genes=10,\n",
    "        parent_selection_type='rank',\n",
    "        stop_criteria='reach_0.95',\n",
    "        keep_elitism=4\n",
    "    )\n",
    "\n",
    "    ga_instance.run()\n",
    "\n",
    "    finish_time = int(time.time()-start_time)\n",
    "\n",
    "    solution, solution_fitness, solution_idx = ga_instance.best_solution()\n",
    "    print(f\"Parameters of the best solution: {solution}\")\n",
    "    print(f\"Fitness value of the best solution = {solution_fitness}\\n\")\n",
    "    whole_time += finish_time\n",
    "    finish_time = 0\n",
    "    i +=1\n",
    "else:\n",
    "    print(f'It took mean: {whole_time/i+1} seconds')\n",
    "    print(f'At all: {whole_time}')"
   ]
  }
 ],
 "metadata": {
  "kernelspec": {
   "display_name": "Python 3",
   "language": "python",
   "name": "python3"
  },
  "language_info": {
   "codemirror_mode": {
    "name": "ipython",
    "version": 3
   },
   "file_extension": ".py",
   "mimetype": "text/x-python",
   "name": "python",
   "nbconvert_exporter": "python",
   "pygments_lexer": "ipython3",
   "version": "3.11.3"
  },
  "orig_nbformat": 4
 },
 "nbformat": 4,
 "nbformat_minor": 2
}
